{
 "cells": [
  {
   "cell_type": "code",
   "execution_count": 11,
   "id": "f24aefec-1983-4607-b90c-8a87423b4ba3",
   "metadata": {},
   "outputs": [],
   "source": [
    "import pandas as pd\n",
    "import os"
   ]
  },
  {
   "cell_type": "code",
   "execution_count": 13,
   "id": "15403f59-431e-487c-b7b8-43b5ac90ef2f",
   "metadata": {},
   "outputs": [
    {
     "name": "stdout",
     "output_type": "stream",
     "text": [
      "/Users/bennyogayonne\n"
     ]
    }
   ],
   "source": [
    "print(os.getcwd())"
   ]
  },
  {
   "cell_type": "code",
   "execution_count": 19,
   "id": "7876066f-c057-47e4-8900-76f5c1cbb77d",
   "metadata": {},
   "outputs": [],
   "source": [
    "df = pd.read_csv('/Users/bennyogayonne/Downloads/layoffs.csv') "
   ]
  },
  {
   "cell_type": "code",
   "execution_count": 21,
   "id": "ce2739e2-f00f-42a5-8d76-7c86e05cbb12",
   "metadata": {},
   "outputs": [
    {
     "name": "stdout",
     "output_type": "stream",
     "text": [
      "               company       location     industry  total_laid_off  \\\n",
      "0            Atlassian         Sydney        Other           500.0   \n",
      "1             SiriusXM  New York City        Media           475.0   \n",
      "2               Alerzo         Ibadan       Retail           400.0   \n",
      "3               UpGrad         Mumbai    Education           120.0   \n",
      "4                 Loft      Sao Paulo  Real Estate           340.0   \n",
      "...                ...            ...          ...             ...   \n",
      "2356         Blackbaud     Charleston        Other           500.0   \n",
      "2357             Yahoo    SF Bay Area     Consumer          1600.0   \n",
      "2358             Hibob       Tel Aviv           HR            70.0   \n",
      "2359            Casper  New York City       Retail             NaN   \n",
      "2360  Wildlife Studios      Sao Paulo     Consumer           300.0   \n",
      "\n",
      "      percentage_laid_off        date     stage        country  \\\n",
      "0                    0.05    3/6/2023  Post-IPO      Australia   \n",
      "1                    0.08    3/6/2023  Post-IPO  United States   \n",
      "2                     NaN    3/6/2023  Series B        Nigeria   \n",
      "3                     NaN    3/6/2023   Unknown          India   \n",
      "4                    0.15    3/3/2023   Unknown         Brazil   \n",
      "...                   ...         ...       ...            ...   \n",
      "2356                 0.14         NaN  Post-IPO  United States   \n",
      "2357                 0.20    2/9/2023  Acquired  United States   \n",
      "2358                 0.30   3/30/2020  Series A         Israel   \n",
      "2359                  NaN   9/14/2021  Post-IPO  United States   \n",
      "2360                 0.20  11/28/2022   Unknown         Brazil   \n",
      "\n",
      "      funds_raised_millions  \n",
      "0                     210.0  \n",
      "1                     525.0  \n",
      "2                      16.0  \n",
      "3                     631.0  \n",
      "4                     788.0  \n",
      "...                     ...  \n",
      "2356                    NaN  \n",
      "2357                    6.0  \n",
      "2358                   45.0  \n",
      "2359                  339.0  \n",
      "2360                  260.0  \n",
      "\n",
      "[2361 rows x 9 columns]\n"
     ]
    }
   ],
   "source": [
    "print(df)"
   ]
  },
  {
   "cell_type": "code",
   "execution_count": null,
   "id": "fe139dba",
   "metadata": {},
   "outputs": [],
   "source": [
    "##THE COUNTRIES WITH THE MOST/LEAST LAYOFFS"
   ]
  },
  {
   "cell_type": "code",
   "execution_count": 27,
   "id": "c9396e04-f02f-4341-9e72-9bafd73509c6",
   "metadata": {},
   "outputs": [],
   "source": [
    "us_layoffs = df[df['country'] == 'United States']"
   ]
  },
  {
   "cell_type": "code",
   "execution_count": 31,
   "id": "42f8864b-8053-44f9-a592-00798b932b37",
   "metadata": {},
   "outputs": [
    {
     "name": "stdout",
     "output_type": "stream",
     "text": [
      "The total number of layoffs in the United States is:  256474.0\n"
     ]
    }
   ],
   "source": [
    "total_us_layoffs = us_layoffs['total_laid_off'].sum()\n",
    "print (\"The total number of layoffs in the United States is: \", total_us_layoffs)"
   ]
  },
  {
   "cell_type": "code",
   "execution_count": null,
   "id": "7b26dbc8-2956-425b-8897-d75bec12a287",
   "metadata": {},
   "outputs": [],
   "source": []
  },
  {
   "cell_type": "code",
   "execution_count": 33,
   "id": "af674572-e6cd-417b-8395-16fedcce098f",
   "metadata": {},
   "outputs": [],
   "source": [
    "country_layoffs = df.groupby('country')['total_laid_off'].sum()"
   ]
  },
  {
   "cell_type": "code",
   "execution_count": 35,
   "id": "d6217dc5-bb7c-4818-9c12-e8d537bc8d53",
   "metadata": {},
   "outputs": [],
   "source": [
    "max_layoffs_country = country_layoffs.idxmax()\n",
    "max_layoffs_number = country_layoffs.max()"
   ]
  },
  {
   "cell_type": "code",
   "execution_count": 61,
   "id": "4eeacbb4-aa61-49cf-8cc7-9ad2a03adc6b",
   "metadata": {},
   "outputs": [
    {
     "name": "stdout",
     "output_type": "stream",
     "text": [
      "The country with the most layoffs is United States with 256474.0 layoffs.\n"
     ]
    }
   ],
   "source": [
    "print (f\"The country with the most layoffs is {max_layoffs_country} with {max_layoffs_number} layoffs.\")"
   ]
  },
  {
   "cell_type": "code",
   "execution_count": null,
   "id": "36ef049a-661c-46ae-9f35-ce49198b31d1",
   "metadata": {},
   "outputs": [],
   "source": []
  },
  {
   "cell_type": "code",
   "execution_count": 53,
   "id": "ad74420f-6e50-436c-badd-bcdd8576809c",
   "metadata": {},
   "outputs": [],
   "source": [
    "country_layoffs1 = df.groupby('country')['total_laid_off'].sum()"
   ]
  },
  {
   "cell_type": "code",
   "execution_count": 59,
   "id": "3f9e7718-3a84-4177-ace9-83bb65f7b861",
   "metadata": {},
   "outputs": [],
   "source": [
    "min_layoffs_country = country_layoffs1.idxmin()\n",
    "min_layoffs_number = country_layoffs1.min()"
   ]
  },
  {
   "cell_type": "code",
   "execution_count": 65,
   "id": "16ad8e31-b9cd-40e0-955b-dc3f28ced7e7",
   "metadata": {},
   "outputs": [
    {
     "name": "stdout",
     "output_type": "stream",
     "text": [
      "The country with the least layoffs is Bahrain with 0.0 layoffs.\n"
     ]
    }
   ],
   "source": [
    "print (f\"The country with the least layoffs is {min_layoffs_country} with {min_layoffs_number} layoffs.\")"
   ]
  },
  {
   "cell_type": "code",
   "execution_count": null,
   "id": "4be1e5e8-7858-4119-aebf-626be3b12040",
   "metadata": {},
   "outputs": [],
   "source": []
  },
  {
   "cell_type": "code",
   "execution_count": 71,
   "id": "f5c18936-5083-49be-a001-132c9e310e89",
   "metadata": {},
   "outputs": [],
   "source": [
    "average_layoffs = df['total_laid_off'].mean()"
   ]
  },
  {
   "cell_type": "code",
   "execution_count": 75,
   "id": "81035600-2878-4670-a57f-a69ab10e31ed",
   "metadata": {},
   "outputs": [
    {
     "name": "stdout",
     "output_type": "stream",
     "text": [
      "The average layoffs is: 238.36.\n"
     ]
    }
   ],
   "source": [
    "print (f\"The average layoffs is: {average_layoffs:.2f}.\")"
   ]
  },
  {
   "cell_type": "code",
   "execution_count": null,
   "id": "a6c840c2-de31-43d0-b4fe-4c95d257b685",
   "metadata": {},
   "outputs": [],
   "source": []
  },
  {
   "cell_type": "code",
   "execution_count": null,
   "id": "41381137",
   "metadata": {},
   "outputs": [],
   "source": [
    "##THE INDUSTRIES WITH THE MOST/LEAST LAYOFFS"
   ]
  },
  {
   "cell_type": "code",
   "execution_count": 77,
   "id": "bd98a324-cf05-453f-855f-935e3fd7df04",
   "metadata": {},
   "outputs": [],
   "source": [
    "industry_layoffs = df.groupby('industry')['total_laid_off'].sum()"
   ]
  },
  {
   "cell_type": "code",
   "execution_count": 81,
   "id": "d6b44bbb-6446-4bbd-abc5-d538a61f953b",
   "metadata": {},
   "outputs": [],
   "source": [
    "max_layoffs_industry = industry_layoffs.idxmax()\n",
    "max_layoffs_number = industry_layoffs.max()"
   ]
  },
  {
   "cell_type": "code",
   "execution_count": 91,
   "id": "2ef526db-0ea8-48c5-965d-7b15ecfa6c41",
   "metadata": {},
   "outputs": [
    {
     "name": "stdout",
     "output_type": "stream",
     "text": [
      "The industry with the most layoffs is the Consumer industry, with 46682.0 layoffs.\n"
     ]
    }
   ],
   "source": [
    "print (f\"The industry with the most layoffs is the {max_layoffs_industry} industry, with {max_layoffs_number} layoffs.\")"
   ]
  },
  {
   "cell_type": "code",
   "execution_count": null,
   "id": "b098cedd-da30-45e2-9ca4-7d746593905e",
   "metadata": {},
   "outputs": [],
   "source": []
  },
  {
   "cell_type": "code",
   "execution_count": 89,
   "id": "2830b33c-6a6f-40ca-929f-ec09b0ca18f3",
   "metadata": {},
   "outputs": [],
   "source": [
    "industry_layoffs1 = df.groupby ('industry')['total_laid_off'].sum()"
   ]
  },
  {
   "cell_type": "code",
   "execution_count": 95,
   "id": "a5d13387-ef0a-45ad-92c7-5e53a0317667",
   "metadata": {},
   "outputs": [],
   "source": [
    "min_layoffs_industry = industry_layoffs1.idxmin()\n",
    "min_layoffs_number = industry_layoffs1.min()"
   ]
  },
  {
   "cell_type": "code",
   "execution_count": 101,
   "id": "9a0d829e-a9c1-4b50-8d90-6d9b68621437",
   "metadata": {},
   "outputs": [
    {
     "name": "stdout",
     "output_type": "stream",
     "text": [
      "The industry with the least layoffs is the Manufacturing industry, with 20.0 layoffs.\n"
     ]
    }
   ],
   "source": [
    "print(f\"The industry with the least layoffs is the {min_layoffs_industry} industry, with {min_layoffs_number} layoffs.\")"
   ]
  },
  {
   "cell_type": "code",
   "execution_count": null,
   "id": "4da53951-051b-4164-814d-1e61703c63ab",
   "metadata": {},
   "outputs": [],
   "source": []
  },
  {
   "cell_type": "code",
   "execution_count": null,
   "id": "76fd9362",
   "metadata": {},
   "outputs": [],
   "source": [
    "##THE COMPANY WITH THE MOST LAYOFFS"
   ]
  },
  {
   "cell_type": "code",
   "execution_count": 105,
   "id": "02e17890-3cbb-4280-a215-a342289cf1cd",
   "metadata": {},
   "outputs": [],
   "source": [
    "company_layoffs = df.groupby ('company')['total_laid_off'].sum()"
   ]
  },
  {
   "cell_type": "code",
   "execution_count": 107,
   "id": "ed3ec78b-c4d2-4728-8736-4194a62718d0",
   "metadata": {},
   "outputs": [],
   "source": [
    "max_company_layoffs = company_layoffs.idxmax()\n",
    "max_company_number = company_layoffs.max()"
   ]
  },
  {
   "cell_type": "code",
   "execution_count": 111,
   "id": "cb0d0c8e-16e5-4cd8-a3d7-5c9433a2c532",
   "metadata": {},
   "outputs": [
    {
     "name": "stdout",
     "output_type": "stream",
     "text": [
      "The company with the most layoffs is Amazon with 18150.0 layoffs.\n"
     ]
    }
   ],
   "source": [
    "print (f\"The company with the most layoffs is {max_company_layoffs} with {max_company_number} layoffs.\")"
   ]
  },
  {
   "cell_type": "code",
   "execution_count": null,
   "id": "6a4750dc-3a48-468c-ae40-28c42c6132ca",
   "metadata": {},
   "outputs": [],
   "source": []
  }
 ],
 "metadata": {
  "kernelspec": {
   "display_name": "Python 3 (ipykernel)",
   "language": "python",
   "name": "python3"
  },
  "language_info": {
   "codemirror_mode": {
    "name": "ipython",
    "version": 3
   },
   "file_extension": ".py",
   "mimetype": "text/x-python",
   "name": "python",
   "nbconvert_exporter": "python",
   "pygments_lexer": "ipython3",
   "version": "3.12.4"
  }
 },
 "nbformat": 4,
 "nbformat_minor": 5
}
